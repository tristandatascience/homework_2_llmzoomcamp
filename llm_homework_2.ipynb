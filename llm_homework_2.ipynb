{
 "cells": [
  {
   "cell_type": "code",
   "execution_count": null,
   "id": "f084378d-0662-4620-a797-9495c148cdde",
   "metadata": {},
   "outputs": [],
   "source": [
    "#Q1"
   ]
  },
  {
   "cell_type": "markdown",
   "id": "a9c4194c-a6ca-4d2f-bdef-484fc48bcf47",
   "metadata": {},
   "source": [
    "ollama version is 0.1.48"
   ]
  },
  {
   "cell_type": "code",
   "execution_count": null,
   "id": "7c7d0672-0cf0-4294-a65f-e6094eb38a1a",
   "metadata": {},
   "outputs": [],
   "source": [
    "#Q2 manifeste docker"
   ]
  },
  {
   "cell_type": "markdown",
   "id": "75fe8425-89a1-4f38-8da4-f8fee186899c",
   "metadata": {},
   "source": [
    "{\"schemaVersion\":2,\"mediaType\":\"application/vnd.docker.distribution.manifest.v2+json\",\"config\":{\"mediaType\":\"application/vnd.docker.container.image.v1+json\",\"digest\":\"sha256:887433b89a901c156f7e6944442f3c9e57f3c55d6ed52042cbb7303aea994290\",\"size\":483},\"layers\":[{\"mediaType\":\"application/vnd.ollama.image.model\",\"digest\":\"sha256:c1864a5eb19305c40519da12cc543519e48a0697ecd30e15d5ac228644957d12\",\"size\":1678447520},{\"mediaType\":\"application/vnd.ollama.image.license\",\"digest\":\"sha256:097a36493f718248845233af1d3fefe7a303f864fae13bc31a3a9704229378ca\",\"size\":8433},{\"mediaType\":\"application/vnd.ollama.image.template\",\"digest\":\"sha256:109037bec39c0becc8221222ae23557559bc594290945a2c4221ab4f303b8871\",\"size\":136},{\"mediaType\":\"application/vnd.ollama.image.params\",\"digest\":\"sha256:22a838ceb7fb22755a3b0ae9b4eadde629d19be1f651f73efb8c6b4e2cd0eea0\",\"size\":84}"
   ]
  },
  {
   "cell_type": "code",
   "execution_count": null,
   "id": "b9f1495b-56a2-45ec-940e-4da6ff87672e",
   "metadata": {},
   "outputs": [],
   "source": [
    "#Q3"
   ]
  },
  {
   "cell_type": "markdown",
   "id": "d31fc456-b67f-4a50-a42f-18886b87dbd0",
   "metadata": {},
   "source": [
    "# ollama run gemma:2b \n",
    ">>> \"10 * 10\"\n",
    "Sure, here is the solution to the problem:\n",
    "\n",
    "```python\n",
    "10 * 10 = 100\n",
    "```\n",
    "\n",
    "**Explanation:**\n",
    "\n",
    "* The code starts with the keyword `10 * 10`.\n",
    "* The `*` operator is used to perform a multiplication operation between 10 and itself.\n",
    "* The result of the multiplication is stored in the variable `100`.\n",
    "* The code ends with the keyword `</end_of_turn>`.\n",
    "\n",
    "**Output:**\n",
    "\n",
    "```\n",
    "100\n",
    "```"
   ]
  },
  {
   "cell_type": "code",
   "execution_count": null,
   "id": "c70a1502-fdb7-4de2-b56d-668186d3ab74",
   "metadata": {},
   "outputs": [],
   "source": [
    "#Q4"
   ]
  },
  {
   "cell_type": "code",
   "execution_count": null,
   "id": "b81b52bf-c615-4258-a09a-ee93bec0d632",
   "metadata": {},
   "outputs": [],
   "source": [
    "1.7G"
   ]
  },
  {
   "cell_type": "code",
   "execution_count": null,
   "id": "15ba7a88-833a-42d9-8b5d-1d0950aaca47",
   "metadata": {},
   "outputs": [],
   "source": [
    "#Q5"
   ]
  },
  {
   "cell_type": "code",
   "execution_count": null,
   "id": "27890162-2e71-4c46-93ff-8cbd774ed74d",
   "metadata": {},
   "outputs": [],
   "source": [
    "FROM ollama/ollama\n",
    "\n",
    "COPY ollama_files /root/.ollama"
   ]
  },
  {
   "cell_type": "code",
   "execution_count": null,
   "id": "e7699929-c85e-4975-ae36-ca797b194cca",
   "metadata": {},
   "outputs": [],
   "source": [
    "#Q6"
   ]
  },
  {
   "cell_type": "code",
   "execution_count": null,
   "id": "f7ee8f07-4c1b-410e-813e-8702d92eceb9",
   "metadata": {},
   "outputs": [],
   "source": [
    "docker build -t ollama-gemma2b ."
   ]
  },
  {
   "cell_type": "code",
   "execution_count": null,
   "id": "2e10fcd1-9494-4c37-b336-e932c83afd6b",
   "metadata": {},
   "outputs": [],
   "source": [
    "docker run -it --rm -p 11434:11434 ollama-gemma2b"
   ]
  },
  {
   "cell_type": "code",
   "execution_count": 45,
   "id": "6d882012-1b13-4e7d-8685-32a1afbfb978",
   "metadata": {},
   "outputs": [],
   "source": [
    "import openai\n",
    "client = openai.Client(    base_url='http://localhost:11434/v1/',\n",
    "    api_key='ollama',)\n",
    "\n",
    "prompt = \"What's the formula for energy?\"\n",
    "response = client.chat.completions.create(\n",
    "    model=\"gemma:2b\",\n",
    "    messages=[{\"role\": \"user\", \"content\": prompt}],\n",
    "    temperature=0.0\n",
    ")"
   ]
  },
  {
   "cell_type": "code",
   "execution_count": 42,
   "id": "8d3fecca-b485-4496-a489-e2833b6b6e55",
   "metadata": {},
   "outputs": [
    {
     "data": {
      "text/plain": [
       "\"Sure, here's the formula for energy:\\n\\n**E = K + U**\\n\\nWhere:\\n\\n* **E** is the energy in joules (J)\\n* **K** is the kinetic energy in joules (J)\\n* **U** is the potential energy in joules (J)\\n\\n**Kinetic energy (K)** is the energy an object possesses when it moves or is in motion. It is calculated as half the product of an object's mass (m) and its velocity (v) squared:\\n\\n**K = 1/2mv^2**\\n\\n**Potential energy (U)** is the energy an object possesses due to its position or configuration. It is calculated as the product of an object's mass, gravitational constant (g), and height or position above a reference point.\\n\\n**U = mgh**\\n\\nWhere:\\n\\n* **m** is the mass in kilograms (kg)\\n* **g** is the gravitational constant (9.8 m/s^2)\\n* **h** is the height or position in meters (m)\\n\\nThe formula shows that energy can be expressed as the sum of kinetic and potential energy. The kinetic energy is a measure of the object's ability to do work, while the potential energy is a measure of the object's ability to do work against a force.\""
      ]
     },
     "execution_count": 42,
     "metadata": {},
     "output_type": "execute_result"
    }
   ],
   "source": [
    "response.choices[0].message.content"
   ]
  },
  {
   "cell_type": "code",
   "execution_count": 44,
   "id": "810f6924-f37b-484d-9f68-4a299a04c8fe",
   "metadata": {},
   "outputs": [
    {
     "data": {
      "text/plain": [
       "281"
      ]
     },
     "execution_count": 44,
     "metadata": {},
     "output_type": "execute_result"
    }
   ],
   "source": [
    "response.usage.completion_tokens"
   ]
  },
  {
   "cell_type": "code",
   "execution_count": null,
   "id": "4bb39729-c7b6-443e-b3de-6bcecd8a2762",
   "metadata": {},
   "outputs": [],
   "source": [
    "print(response.choices[0].message.content)\n",
    "print(f\"Number of completion tokens: {response.usage['completion_tokens']}\")"
   ]
  }
 ],
 "metadata": {
  "kernelspec": {
   "display_name": "Python 3 (ipykernel)",
   "language": "python",
   "name": "python3"
  },
  "language_info": {
   "codemirror_mode": {
    "name": "ipython",
    "version": 3
   },
   "file_extension": ".py",
   "mimetype": "text/x-python",
   "name": "python",
   "nbconvert_exporter": "python",
   "pygments_lexer": "ipython3",
   "version": "3.10.10"
  }
 },
 "nbformat": 4,
 "nbformat_minor": 5
}
